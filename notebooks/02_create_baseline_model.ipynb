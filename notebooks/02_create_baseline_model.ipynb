{
 "cells": [
  {
   "cell_type": "markdown",
   "metadata": {},
   "source": [
    "# Define baseline model\n",
    "\n",
    "With the features that we created, we're going to create two baseline models, one is with a business rule and other is with a simple machine learning model (decision tree). This is to analyse what results we can achieve with these options."
   ]
  },
  {
   "cell_type": "code",
   "execution_count": 1,
   "metadata": {},
   "outputs": [],
   "source": [
    "import os\n",
    "os.chdir(\"../\")"
   ]
  },
  {
   "cell_type": "code",
   "execution_count": 2,
   "metadata": {},
   "outputs": [],
   "source": [
    "import pandas as pd\n",
    "import numpy as np\n",
    "import seaborn as sns\n",
    "import matplotlib.pyplot as plt\n",
    "from pathlib import Path\n",
    "import yaml\n",
    "\n",
    "\n",
    "from sklearn.metrics import classification_report,confusion_matrix, ConfusionMatrixDisplay\n",
    "from sklearn.tree import DecisionTreeClassifier\n",
    "from sklearn.compose import ColumnTransformer\n",
    "from sklearn.preprocessing import OneHotEncoder\n",
    "from sklearn.pipeline import Pipeline\n",
    "from sklearn.impute import SimpleImputer\n",
    "\n",
    "from typing import Union\n",
    "from datetime import datetime,date\n",
    "from src.data.data_cleaning import make_pipeline,convert_to_date,convert_to_datetime"
   ]
  },
  {
   "cell_type": "markdown",
   "metadata": {},
   "source": [
    "## 1 - Data reading"
   ]
  },
  {
   "cell_type": "code",
   "execution_count": 3,
   "metadata": {},
   "outputs": [
    {
     "name": "stdout",
     "output_type": "stream",
     "text": [
      "df columns: Index(['id', 'user_id', 'amount', 'total_amount', 'due_amount', 'due_date',\n",
      "       'status', 'created_at', 'date_created', 'reference_date',\n",
      "       'sum_amt_transactions_at_created_loan',\n",
      "       'sum_amt_payment_method_credit_at_created_loan',\n",
      "       'sum_amt_payment_method_debit_at_created_loan',\n",
      "       'sum_amt_transactions_in_visa_at_created_loan',\n",
      "       'sum_amt_transactions_in_mastercard_at_created_loan',\n",
      "       'sum_amt_transactions_in_elo_at_created_loan',\n",
      "       'max_amt_transactions_at_created_loan',\n",
      "       'max_installments_at_created_loan',\n",
      "       'median_installments_at_created_loan',\n",
      "       'most_frequent_transactions_payment_method_at_created_loan',\n",
      "       'sum_amt_transactions_in_last_month',\n",
      "       'sum_amt_payment_method_credit_in_last_month',\n",
      "       'sum_amt_payment_method_debit_in_last_month',\n",
      "       'sum_amt_transactions_in_visa_in_last_month',\n",
      "       'sum_amt_transactions_in_mastercard_in_last_month',\n",
      "       'sum_amt_transactions_in_elo_in_last_month',\n",
      "       'max_amt_transactions_in_last_month', 'max_installments_in_last_month',\n",
      "       'median_installments_in_last_month',\n",
      "       'most_frequent_transactions_payment_method_in_last_month',\n",
      "       'avg_amt_transactions_in_last_three_months',\n",
      "       'avg_amt_payment_method_credit_in_last_three_months',\n",
      "       'avg_amt_payment_method_debit_in_last_three_months',\n",
      "       'avg_amt_transactions_in_visa_in_last_three_months',\n",
      "       'avg_amt_transactions_in_mastercard_in_last_three_months',\n",
      "       'avg_amt_transactions_in_elo_in_last_three_months',\n",
      "       'avg_amt_transactions_in_hipercard_in_last_three_months',\n",
      "       'max_amt_transactions_in_last_three_months',\n",
      "       'max_installments_in_last_three_months',\n",
      "       'median_installments_in_last_three_months',\n",
      "       'most_frequent_transactions_payment_method_in_last_three_months',\n",
      "       'avg_amt_transactions_in_last_six_months',\n",
      "       'avg_amt_payment_method_credit_in_last_six_months',\n",
      "       'avg_amt_payment_method_debit_in_last_six_months',\n",
      "       'avg_amt_transactions_in_visa_in_last_six_months',\n",
      "       'avg_amt_transactions_in_mastercard_in_last_six_months',\n",
      "       'avg_amt_transactions_in_elo_in_last_six_months',\n",
      "       'avg_amt_transactions_in_hipercard_in_last_six_months',\n",
      "       'max_amt_transactions_in_last_six_months',\n",
      "       'max_installments_in_last_six_months',\n",
      "       'median_installments_in_last_six_months',\n",
      "       'most_frequent_transactions_payment_method_in_last_six_months',\n",
      "       'avg_repaid_total_amt_loans_in_last_month',\n",
      "       'avg_pct_repaid_first_month_loans_in_last_month',\n",
      "       'avg_pct_repaid_sec_month_loans_in_last_month',\n",
      "       'avg_pct_repaid_trd_month_loans_in_last_month',\n",
      "       'max_repaid_total_amt_loans_in_last_month',\n",
      "       'most_frequent_loans_repayment_method_in_last_month',\n",
      "       'pct_repaid_loans_in_last_month',\n",
      "       'avg_repaid_total_amt_loans_in_last_three_months',\n",
      "       'avg_pct_repaid_first_month_loans_in_last_three_months',\n",
      "       'avg_pct_repaid_sec_month_loans_in_last_three_months',\n",
      "       'avg_pct_repaid_trd_month_loans_in_last_three_months',\n",
      "       'max_repaid_total_amt_loans_in_last_three_months',\n",
      "       'most_frequent_loans_repayment_method_in_last_three_months',\n",
      "       'pct_repaid_loans_in_last_three_months',\n",
      "       'avg_repaid_total_amt_loans_in_last_six_months',\n",
      "       'avg_pct_repaid_first_month_loans_in_last_six_months',\n",
      "       'avg_pct_repaid_sec_month_loans_in_last_six_months',\n",
      "       'avg_pct_repaid_trd_month_loans_in_last_six_months',\n",
      "       'max_repaid_total_amt_loans_in_last_six_months',\n",
      "       'most_frequent_loans_repayment_method_in_last_six_months',\n",
      "       'pct_repaid_loans_in_last_six_months', 'time_years',\n",
      "       'annual_interest_rate', 'monthly_interest_rate'],\n",
      "      dtype='object')\n",
      "df shape: (6746, 76)\n"
     ]
    },
    {
     "data": {
      "text/html": [
       "<div>\n",
       "<style scoped>\n",
       "    .dataframe tbody tr th:only-of-type {\n",
       "        vertical-align: middle;\n",
       "    }\n",
       "\n",
       "    .dataframe tbody tr th {\n",
       "        vertical-align: top;\n",
       "    }\n",
       "\n",
       "    .dataframe thead th {\n",
       "        text-align: right;\n",
       "    }\n",
       "</style>\n",
       "<table border=\"1\" class=\"dataframe\">\n",
       "  <thead>\n",
       "    <tr style=\"text-align: right;\">\n",
       "      <th></th>\n",
       "      <th>id</th>\n",
       "      <th>user_id</th>\n",
       "      <th>amount</th>\n",
       "      <th>total_amount</th>\n",
       "      <th>due_amount</th>\n",
       "      <th>due_date</th>\n",
       "      <th>status</th>\n",
       "      <th>created_at</th>\n",
       "      <th>date_created</th>\n",
       "      <th>reference_date</th>\n",
       "      <th>...</th>\n",
       "      <th>avg_repaid_total_amt_loans_in_last_six_months</th>\n",
       "      <th>avg_pct_repaid_first_month_loans_in_last_six_months</th>\n",
       "      <th>avg_pct_repaid_sec_month_loans_in_last_six_months</th>\n",
       "      <th>avg_pct_repaid_trd_month_loans_in_last_six_months</th>\n",
       "      <th>max_repaid_total_amt_loans_in_last_six_months</th>\n",
       "      <th>most_frequent_loans_repayment_method_in_last_six_months</th>\n",
       "      <th>pct_repaid_loans_in_last_six_months</th>\n",
       "      <th>time_years</th>\n",
       "      <th>annual_interest_rate</th>\n",
       "      <th>monthly_interest_rate</th>\n",
       "    </tr>\n",
       "  </thead>\n",
       "  <tbody>\n",
       "    <tr>\n",
       "      <th>0</th>\n",
       "      <td>0</td>\n",
       "      <td>3070</td>\n",
       "      <td>6000.0</td>\n",
       "      <td>6045.28</td>\n",
       "      <td>6459.0</td>\n",
       "      <td>2022-05-02</td>\n",
       "      <td>repaid</td>\n",
       "      <td>2022-02-01 00:47:29.575000+00:00</td>\n",
       "      <td>2022-02-01</td>\n",
       "      <td>2022-02-01</td>\n",
       "      <td>...</td>\n",
       "      <td>NaN</td>\n",
       "      <td>NaN</td>\n",
       "      <td>NaN</td>\n",
       "      <td>NaN</td>\n",
       "      <td>NaN</td>\n",
       "      <td>NaN</td>\n",
       "      <td>NaN</td>\n",
       "      <td>0.25</td>\n",
       "      <td>30.8</td>\n",
       "      <td>2.26</td>\n",
       "    </tr>\n",
       "    <tr>\n",
       "      <th>1</th>\n",
       "      <td>1</td>\n",
       "      <td>2546</td>\n",
       "      <td>6000.0</td>\n",
       "      <td>6045.28</td>\n",
       "      <td>6459.0</td>\n",
       "      <td>2022-05-02</td>\n",
       "      <td>repaid</td>\n",
       "      <td>2022-02-01 00:49:51.763000+00:00</td>\n",
       "      <td>2022-02-01</td>\n",
       "      <td>2022-02-01</td>\n",
       "      <td>...</td>\n",
       "      <td>NaN</td>\n",
       "      <td>NaN</td>\n",
       "      <td>NaN</td>\n",
       "      <td>NaN</td>\n",
       "      <td>NaN</td>\n",
       "      <td>NaN</td>\n",
       "      <td>NaN</td>\n",
       "      <td>0.25</td>\n",
       "      <td>30.8</td>\n",
       "      <td>2.26</td>\n",
       "    </tr>\n",
       "    <tr>\n",
       "      <th>2</th>\n",
       "      <td>2</td>\n",
       "      <td>2413</td>\n",
       "      <td>6000.0</td>\n",
       "      <td>6045.28</td>\n",
       "      <td>6459.0</td>\n",
       "      <td>2022-05-02</td>\n",
       "      <td>repaid</td>\n",
       "      <td>2022-02-01 01:24:40.537000+00:00</td>\n",
       "      <td>2022-02-01</td>\n",
       "      <td>2022-02-01</td>\n",
       "      <td>...</td>\n",
       "      <td>NaN</td>\n",
       "      <td>NaN</td>\n",
       "      <td>NaN</td>\n",
       "      <td>NaN</td>\n",
       "      <td>NaN</td>\n",
       "      <td>NaN</td>\n",
       "      <td>NaN</td>\n",
       "      <td>0.25</td>\n",
       "      <td>30.8</td>\n",
       "      <td>2.26</td>\n",
       "    </tr>\n",
       "    <tr>\n",
       "      <th>3</th>\n",
       "      <td>3</td>\n",
       "      <td>2585</td>\n",
       "      <td>6000.0</td>\n",
       "      <td>6045.28</td>\n",
       "      <td>6459.0</td>\n",
       "      <td>2022-05-02</td>\n",
       "      <td>debt</td>\n",
       "      <td>2022-02-01 02:52:59.803000+00:00</td>\n",
       "      <td>2022-02-01</td>\n",
       "      <td>2022-02-01</td>\n",
       "      <td>...</td>\n",
       "      <td>NaN</td>\n",
       "      <td>NaN</td>\n",
       "      <td>NaN</td>\n",
       "      <td>NaN</td>\n",
       "      <td>NaN</td>\n",
       "      <td>NaN</td>\n",
       "      <td>NaN</td>\n",
       "      <td>0.25</td>\n",
       "      <td>30.8</td>\n",
       "      <td>2.26</td>\n",
       "    </tr>\n",
       "    <tr>\n",
       "      <th>4</th>\n",
       "      <td>4</td>\n",
       "      <td>2556</td>\n",
       "      <td>6000.0</td>\n",
       "      <td>6045.28</td>\n",
       "      <td>6459.0</td>\n",
       "      <td>2022-05-02</td>\n",
       "      <td>repaid</td>\n",
       "      <td>2022-02-01 02:53:07.123000+00:00</td>\n",
       "      <td>2022-02-01</td>\n",
       "      <td>2022-02-01</td>\n",
       "      <td>...</td>\n",
       "      <td>NaN</td>\n",
       "      <td>NaN</td>\n",
       "      <td>NaN</td>\n",
       "      <td>NaN</td>\n",
       "      <td>NaN</td>\n",
       "      <td>NaN</td>\n",
       "      <td>NaN</td>\n",
       "      <td>0.25</td>\n",
       "      <td>30.8</td>\n",
       "      <td>2.26</td>\n",
       "    </tr>\n",
       "  </tbody>\n",
       "</table>\n",
       "<p>5 rows × 76 columns</p>\n",
       "</div>"
      ],
      "text/plain": [
       "   id  user_id  amount  total_amount  due_amount    due_date  status  \\\n",
       "0   0     3070  6000.0       6045.28      6459.0  2022-05-02  repaid   \n",
       "1   1     2546  6000.0       6045.28      6459.0  2022-05-02  repaid   \n",
       "2   2     2413  6000.0       6045.28      6459.0  2022-05-02  repaid   \n",
       "3   3     2585  6000.0       6045.28      6459.0  2022-05-02    debt   \n",
       "4   4     2556  6000.0       6045.28      6459.0  2022-05-02  repaid   \n",
       "\n",
       "                         created_at date_created reference_date  ...  \\\n",
       "0  2022-02-01 00:47:29.575000+00:00   2022-02-01     2022-02-01  ...   \n",
       "1  2022-02-01 00:49:51.763000+00:00   2022-02-01     2022-02-01  ...   \n",
       "2  2022-02-01 01:24:40.537000+00:00   2022-02-01     2022-02-01  ...   \n",
       "3  2022-02-01 02:52:59.803000+00:00   2022-02-01     2022-02-01  ...   \n",
       "4  2022-02-01 02:53:07.123000+00:00   2022-02-01     2022-02-01  ...   \n",
       "\n",
       "   avg_repaid_total_amt_loans_in_last_six_months  \\\n",
       "0                                            NaN   \n",
       "1                                            NaN   \n",
       "2                                            NaN   \n",
       "3                                            NaN   \n",
       "4                                            NaN   \n",
       "\n",
       "   avg_pct_repaid_first_month_loans_in_last_six_months  \\\n",
       "0                                                NaN     \n",
       "1                                                NaN     \n",
       "2                                                NaN     \n",
       "3                                                NaN     \n",
       "4                                                NaN     \n",
       "\n",
       "   avg_pct_repaid_sec_month_loans_in_last_six_months  \\\n",
       "0                                                NaN   \n",
       "1                                                NaN   \n",
       "2                                                NaN   \n",
       "3                                                NaN   \n",
       "4                                                NaN   \n",
       "\n",
       "   avg_pct_repaid_trd_month_loans_in_last_six_months  \\\n",
       "0                                                NaN   \n",
       "1                                                NaN   \n",
       "2                                                NaN   \n",
       "3                                                NaN   \n",
       "4                                                NaN   \n",
       "\n",
       "   max_repaid_total_amt_loans_in_last_six_months  \\\n",
       "0                                            NaN   \n",
       "1                                            NaN   \n",
       "2                                            NaN   \n",
       "3                                            NaN   \n",
       "4                                            NaN   \n",
       "\n",
       "   most_frequent_loans_repayment_method_in_last_six_months  \\\n",
       "0                                                NaN         \n",
       "1                                                NaN         \n",
       "2                                                NaN         \n",
       "3                                                NaN         \n",
       "4                                                NaN         \n",
       "\n",
       "   pct_repaid_loans_in_last_six_months  time_years  annual_interest_rate  \\\n",
       "0                                  NaN        0.25                  30.8   \n",
       "1                                  NaN        0.25                  30.8   \n",
       "2                                  NaN        0.25                  30.8   \n",
       "3                                  NaN        0.25                  30.8   \n",
       "4                                  NaN        0.25                  30.8   \n",
       "\n",
       "  monthly_interest_rate  \n",
       "0                  2.26  \n",
       "1                  2.26  \n",
       "2                  2.26  \n",
       "3                  2.26  \n",
       "4                  2.26  \n",
       "\n",
       "[5 rows x 76 columns]"
      ]
     },
     "execution_count": 3,
     "metadata": {},
     "output_type": "execute_result"
    }
   ],
   "source": [
    "df = pd.read_csv(\"./data/processed/df_loans_with_loans_repays_hist_and_trans_hist_per_user_cleared.csv\")\n",
    "print(\"df columns:\",df.columns)\n",
    "print(\"df shape:\",df.shape)\n",
    "df.head()"
   ]
  },
  {
   "cell_type": "code",
   "execution_count": 4,
   "metadata": {},
   "outputs": [
    {
     "name": "stdout",
     "output_type": "stream",
     "text": [
      "id : int64\n",
      "user_id : int64\n",
      "amount : float64\n",
      "total_amount : float64\n",
      "due_amount : float64\n",
      "due_date : object\n",
      "status : object\n",
      "created_at : object\n",
      "date_created : object\n",
      "reference_date : object\n",
      "sum_amt_transactions_at_created_loan : float64\n",
      "sum_amt_payment_method_credit_at_created_loan : float64\n",
      "sum_amt_payment_method_debit_at_created_loan : float64\n",
      "sum_amt_transactions_in_visa_at_created_loan : float64\n",
      "sum_amt_transactions_in_mastercard_at_created_loan : float64\n",
      "sum_amt_transactions_in_elo_at_created_loan : float64\n",
      "max_amt_transactions_at_created_loan : float64\n",
      "max_installments_at_created_loan : float64\n",
      "median_installments_at_created_loan : float64\n",
      "most_frequent_transactions_payment_method_at_created_loan : object\n",
      "sum_amt_transactions_in_last_month : float64\n",
      "sum_amt_payment_method_credit_in_last_month : float64\n",
      "sum_amt_payment_method_debit_in_last_month : float64\n",
      "sum_amt_transactions_in_visa_in_last_month : float64\n",
      "sum_amt_transactions_in_mastercard_in_last_month : float64\n",
      "sum_amt_transactions_in_elo_in_last_month : float64\n",
      "max_amt_transactions_in_last_month : float64\n",
      "max_installments_in_last_month : float64\n",
      "median_installments_in_last_month : float64\n",
      "most_frequent_transactions_payment_method_in_last_month : object\n",
      "avg_amt_transactions_in_last_three_months : float64\n",
      "avg_amt_payment_method_credit_in_last_three_months : float64\n",
      "avg_amt_payment_method_debit_in_last_three_months : float64\n",
      "avg_amt_transactions_in_visa_in_last_three_months : float64\n",
      "avg_amt_transactions_in_mastercard_in_last_three_months : float64\n",
      "avg_amt_transactions_in_elo_in_last_three_months : float64\n",
      "avg_amt_transactions_in_hipercard_in_last_three_months : float64\n",
      "max_amt_transactions_in_last_three_months : float64\n",
      "max_installments_in_last_three_months : float64\n",
      "median_installments_in_last_three_months : float64\n",
      "most_frequent_transactions_payment_method_in_last_three_months : object\n",
      "avg_amt_transactions_in_last_six_months : float64\n",
      "avg_amt_payment_method_credit_in_last_six_months : float64\n",
      "avg_amt_payment_method_debit_in_last_six_months : float64\n",
      "avg_amt_transactions_in_visa_in_last_six_months : float64\n",
      "avg_amt_transactions_in_mastercard_in_last_six_months : float64\n",
      "avg_amt_transactions_in_elo_in_last_six_months : float64\n",
      "avg_amt_transactions_in_hipercard_in_last_six_months : float64\n",
      "max_amt_transactions_in_last_six_months : float64\n",
      "max_installments_in_last_six_months : float64\n",
      "median_installments_in_last_six_months : float64\n",
      "most_frequent_transactions_payment_method_in_last_six_months : object\n",
      "avg_repaid_total_amt_loans_in_last_month : float64\n",
      "avg_pct_repaid_first_month_loans_in_last_month : float64\n",
      "avg_pct_repaid_sec_month_loans_in_last_month : float64\n",
      "avg_pct_repaid_trd_month_loans_in_last_month : float64\n",
      "max_repaid_total_amt_loans_in_last_month : float64\n",
      "most_frequent_loans_repayment_method_in_last_month : object\n",
      "pct_repaid_loans_in_last_month : float64\n",
      "avg_repaid_total_amt_loans_in_last_three_months : float64\n",
      "avg_pct_repaid_first_month_loans_in_last_three_months : float64\n",
      "avg_pct_repaid_sec_month_loans_in_last_three_months : float64\n",
      "avg_pct_repaid_trd_month_loans_in_last_three_months : float64\n",
      "max_repaid_total_amt_loans_in_last_three_months : float64\n",
      "most_frequent_loans_repayment_method_in_last_three_months : object\n",
      "pct_repaid_loans_in_last_three_months : float64\n",
      "avg_repaid_total_amt_loans_in_last_six_months : float64\n",
      "avg_pct_repaid_first_month_loans_in_last_six_months : float64\n",
      "avg_pct_repaid_sec_month_loans_in_last_six_months : float64\n",
      "avg_pct_repaid_trd_month_loans_in_last_six_months : float64\n",
      "max_repaid_total_amt_loans_in_last_six_months : float64\n",
      "most_frequent_loans_repayment_method_in_last_six_months : object\n",
      "pct_repaid_loans_in_last_six_months : float64\n",
      "time_years : float64\n",
      "annual_interest_rate : float64\n",
      "monthly_interest_rate : float64\n"
     ]
    }
   ],
   "source": [
    "for k,v in df.dtypes.items():\n",
    "    print(k,\":\",v)"
   ]
  },
  {
   "cell_type": "code",
   "execution_count": 5,
   "metadata": {},
   "outputs": [
    {
     "name": "stdout",
     "output_type": "stream",
     "text": [
      "id : 0.0\n",
      "user_id : 0.0\n",
      "amount : 0.0\n",
      "total_amount : 0.0\n",
      "due_amount : 0.0\n",
      "due_date : 0.0\n",
      "status : 0.0\n",
      "created_at : 0.0\n",
      "date_created : 0.0\n",
      "reference_date : 0.0\n",
      "sum_amt_transactions_at_created_loan : 0.10836050993181144\n",
      "sum_amt_payment_method_credit_at_created_loan : 0.12007115327601542\n",
      "sum_amt_payment_method_debit_at_created_loan : 0.3631781796620219\n",
      "sum_amt_transactions_in_visa_at_created_loan : 0.18751852949896236\n",
      "sum_amt_transactions_in_mastercard_at_created_loan : 0.1528313074414468\n",
      "sum_amt_transactions_in_elo_at_created_loan : 0.40764897717165727\n",
      "max_amt_transactions_at_created_loan : 0.10836050993181144\n",
      "max_installments_at_created_loan : 0.10836050993181144\n",
      "median_installments_at_created_loan : 0.10836050993181144\n",
      "most_frequent_transactions_payment_method_at_created_loan : 0.10836050993181144\n",
      "sum_amt_transactions_in_last_month : 0.019863622887637118\n",
      "sum_amt_payment_method_credit_in_last_month : 0.02164245478802253\n",
      "sum_amt_payment_method_debit_in_last_month : 0.2434034983694041\n",
      "sum_amt_transactions_in_visa_in_last_month : 0.05099318114438186\n",
      "sum_amt_transactions_in_mastercard_in_last_month : 0.03424251408241921\n",
      "sum_amt_transactions_in_elo_in_last_month : 0.25303883782982506\n",
      "max_amt_transactions_in_last_month : 0.019863622887637118\n",
      "max_installments_in_last_month : 0.019863622887637118\n",
      "median_installments_in_last_month : 0.019863622887637118\n",
      "most_frequent_transactions_payment_method_in_last_month : 0.019863622887637118\n",
      "avg_amt_transactions_in_last_three_months : 0.004595315742662319\n",
      "avg_amt_payment_method_credit_in_last_three_months : 0.005484731692855026\n",
      "avg_amt_payment_method_debit_in_last_three_months : 0.16246664690186777\n",
      "avg_amt_transactions_in_visa_in_last_three_months : 0.019122442929143196\n",
      "avg_amt_transactions_in_mastercard_in_last_three_months : 0.010672991402312482\n",
      "avg_amt_transactions_in_elo_in_last_three_months : 0.15475837533353098\n",
      "avg_amt_transactions_in_hipercard_in_last_three_months : 0.7632671212570412\n",
      "max_amt_transactions_in_last_three_months : 0.004595315742662319\n",
      "max_installments_in_last_three_months : 0.004595315742662319\n",
      "median_installments_in_last_three_months : 0.004595315742662319\n",
      "most_frequent_transactions_payment_method_in_last_three_months : 0.004595315742662319\n",
      "avg_amt_transactions_in_last_six_months : 0.0037058997924696115\n",
      "avg_amt_payment_method_credit_in_last_six_months : 0.004447079750963534\n",
      "avg_amt_payment_method_debit_in_last_six_months : 0.1469018677734954\n",
      "avg_amt_transactions_in_visa_in_last_six_months : 0.016454195078565076\n",
      "avg_amt_transactions_in_mastercard_in_last_six_months : 0.009190631485324638\n",
      "avg_amt_transactions_in_elo_in_last_six_months : 0.13474651645419508\n",
      "avg_amt_transactions_in_hipercard_in_last_six_months : 0.7361399347761637\n",
      "max_amt_transactions_in_last_six_months : 0.0037058997924696115\n",
      "max_installments_in_last_six_months : 0.0037058997924696115\n",
      "median_installments_in_last_six_months : 0.0037058997924696115\n",
      "most_frequent_transactions_payment_method_in_last_six_months : 0.0037058997924696115\n",
      "avg_repaid_total_amt_loans_in_last_month : 0.7640083012155351\n",
      "avg_pct_repaid_first_month_loans_in_last_month : 0.7646012451823303\n",
      "avg_pct_repaid_sec_month_loans_in_last_month : 0.7643047731989328\n",
      "avg_pct_repaid_trd_month_loans_in_last_month : 0.7643047731989328\n",
      "max_repaid_total_amt_loans_in_last_month : 0.7640083012155351\n",
      "most_frequent_loans_repayment_method_in_last_month : 0.7643047731989328\n",
      "pct_repaid_loans_in_last_month : 0.7640083012155351\n",
      "avg_repaid_total_amt_loans_in_last_three_months : 0.5290542543729617\n",
      "avg_pct_repaid_first_month_loans_in_last_three_months : 0.5335013341239253\n",
      "avg_pct_repaid_sec_month_loans_in_last_three_months : 0.5305366142899496\n",
      "avg_pct_repaid_trd_month_loans_in_last_three_months : 0.5293507263563593\n",
      "max_repaid_total_amt_loans_in_last_three_months : 0.5290542543729617\n",
      "most_frequent_loans_repayment_method_in_last_three_months : 0.5293507263563593\n",
      "pct_repaid_loans_in_last_three_months : 0.5290542543729617\n",
      "avg_repaid_total_amt_loans_in_last_six_months : 0.5290542543729617\n",
      "avg_pct_repaid_first_month_loans_in_last_six_months : 0.5335013341239253\n",
      "avg_pct_repaid_sec_month_loans_in_last_six_months : 0.5305366142899496\n",
      "avg_pct_repaid_trd_month_loans_in_last_six_months : 0.5293507263563593\n",
      "max_repaid_total_amt_loans_in_last_six_months : 0.5290542543729617\n",
      "most_frequent_loans_repayment_method_in_last_six_months : 0.5293507263563593\n",
      "pct_repaid_loans_in_last_six_months : 0.5290542543729617\n",
      "time_years : 0.0\n",
      "annual_interest_rate : 0.0\n",
      "monthly_interest_rate : 0.0\n"
     ]
    }
   ],
   "source": [
    "## check null values \n",
    "for k,v in ((df.isnull().sum())/df.shape[0]).items():\n",
    "    print(k,\":\",v)"
   ]
  },
  {
   "cell_type": "markdown",
   "metadata": {},
   "source": [
    "## 2 - Data preprocessing\n",
    "\n",
    "Convert to date columns to datetime type."
   ]
  },
  {
   "cell_type": "code",
   "execution_count": 6,
   "metadata": {},
   "outputs": [],
   "source": [
    "list_functions = [\n",
    "    {\"function\": convert_to_datetime, \"function_kwargs\": {\n",
    "        \"col_to_convert\":\"created_at\",\n",
    "        \"fmt\":\"ISO8601\"\n",
    "    }},\n",
    "    {\"function\": convert_to_date, \"function_kwargs\": {\n",
    "        \"col_to_convert\":\"due_date\",\n",
    "        \"fmt\":\"%Y-%m-%d\"\n",
    "    }},\n",
    "    {\"function\": convert_to_date, \"function_kwargs\": {\n",
    "        \"col_to_convert\":\"date_created\",\n",
    "        \"fmt\":\"%Y-%m-%d\"\n",
    "    }},\n",
    "    {\"function\": convert_to_date, \"function_kwargs\": {\n",
    "        \"col_to_convert\":\"reference_date\",\n",
    "        \"fmt\":\"%Y-%m-%d\"\n",
    "    }},\n",
    "]\n",
    "df = make_pipeline(dataframe=df,functions=list_functions)\n",
    "\n",
    "## select only repaid and debt loans\n",
    "df = df[(df[\"status\"]==\"repaid\")|(df[\"status\"]==\"debt\")]"
   ]
  },
  {
   "cell_type": "code",
   "execution_count": 7,
   "metadata": {},
   "outputs": [
    {
     "name": "stdout",
     "output_type": "stream",
     "text": [
      "created_at : <class 'pandas._libs.tslibs.timestamps.Timestamp'>\n",
      "reference_date : <class 'datetime.date'>\n",
      "due_date : <class 'datetime.date'>\n",
      "date_created : <class 'datetime.date'>\n"
     ]
    }
   ],
   "source": [
    "for k,v in df[[\"created_at\",\"reference_date\",\"due_date\",\"date_created\"]].loc[0].items():\n",
    "    print(k,\":\",v.__class__)"
   ]
  },
  {
   "cell_type": "code",
   "execution_count": 8,
   "metadata": {},
   "outputs": [
    {
     "data": {
      "text/plain": [
       "4/2022     1482\n",
       "7/2022      957\n",
       "2/2022      895\n",
       "6/2022      778\n",
       "8/2022      728\n",
       "9/2022      723\n",
       "3/2022      588\n",
       "5/2022      535\n",
       "10/2022      46\n",
       "Name: count, dtype: int64"
      ]
     },
     "execution_count": 8,
     "metadata": {},
     "output_type": "execute_result"
    }
   ],
   "source": [
    "# check the date where this loans are created.\n",
    "year_month_loans_created = pd.Series([f\"{d.date().month}/{d.date().year}\" for d in pd.to_datetime(df[\"created_at\"],format=\"ISO8601\")])\n",
    "year_month_loans_created.value_counts(ascending=False)"
   ]
  },
  {
   "cell_type": "markdown",
   "metadata": {},
   "source": [
    "## 4 - Create train and test data"
   ]
  },
  {
   "cell_type": "code",
   "execution_count": 9,
   "metadata": {},
   "outputs": [
    {
     "data": {
      "text/plain": [
       "['amount',\n",
       " 'total_amount',\n",
       " 'due_amount',\n",
       " 'sum_amt_transactions_at_created_loan',\n",
       " 'sum_amt_payment_method_credit_at_created_loan',\n",
       " 'sum_amt_payment_method_debit_at_created_loan',\n",
       " 'sum_amt_transactions_in_visa_at_created_loan',\n",
       " 'sum_amt_transactions_in_mastercard_at_created_loan',\n",
       " 'sum_amt_transactions_in_elo_at_created_loan',\n",
       " 'max_amt_transactions_at_created_loan',\n",
       " 'max_installments_at_created_loan',\n",
       " 'median_installments_at_created_loan',\n",
       " 'sum_amt_transactions_in_last_month',\n",
       " 'sum_amt_payment_method_credit_in_last_month',\n",
       " 'sum_amt_payment_method_debit_in_last_month',\n",
       " 'sum_amt_transactions_in_visa_in_last_month',\n",
       " 'sum_amt_transactions_in_mastercard_in_last_month',\n",
       " 'sum_amt_transactions_in_elo_in_last_month',\n",
       " 'max_amt_transactions_in_last_month',\n",
       " 'max_installments_in_last_month',\n",
       " 'median_installments_in_last_month',\n",
       " 'avg_amt_transactions_in_last_three_months',\n",
       " 'avg_amt_payment_method_credit_in_last_three_months',\n",
       " 'avg_amt_payment_method_debit_in_last_three_months',\n",
       " 'avg_amt_transactions_in_visa_in_last_three_months',\n",
       " 'avg_amt_transactions_in_mastercard_in_last_three_months',\n",
       " 'avg_amt_transactions_in_elo_in_last_three_months',\n",
       " 'avg_amt_transactions_in_hipercard_in_last_three_months',\n",
       " 'max_amt_transactions_in_last_three_months',\n",
       " 'max_installments_in_last_three_months',\n",
       " 'median_installments_in_last_three_months',\n",
       " 'avg_amt_transactions_in_last_six_months',\n",
       " 'avg_amt_payment_method_credit_in_last_six_months',\n",
       " 'avg_amt_payment_method_debit_in_last_six_months',\n",
       " 'avg_amt_transactions_in_visa_in_last_six_months',\n",
       " 'avg_amt_transactions_in_mastercard_in_last_six_months',\n",
       " 'avg_amt_transactions_in_elo_in_last_six_months',\n",
       " 'avg_amt_transactions_in_hipercard_in_last_six_months',\n",
       " 'max_amt_transactions_in_last_six_months',\n",
       " 'max_installments_in_last_six_months',\n",
       " 'median_installments_in_last_six_months',\n",
       " 'avg_repaid_total_amt_loans_in_last_month',\n",
       " 'avg_pct_repaid_first_month_loans_in_last_month',\n",
       " 'avg_pct_repaid_sec_month_loans_in_last_month',\n",
       " 'avg_pct_repaid_trd_month_loans_in_last_month',\n",
       " 'max_repaid_total_amt_loans_in_last_month',\n",
       " 'pct_repaid_loans_in_last_month',\n",
       " 'avg_repaid_total_amt_loans_in_last_three_months',\n",
       " 'avg_pct_repaid_first_month_loans_in_last_three_months',\n",
       " 'avg_pct_repaid_sec_month_loans_in_last_three_months',\n",
       " 'avg_pct_repaid_trd_month_loans_in_last_three_months',\n",
       " 'max_repaid_total_amt_loans_in_last_three_months',\n",
       " 'pct_repaid_loans_in_last_three_months',\n",
       " 'avg_repaid_total_amt_loans_in_last_six_months',\n",
       " 'avg_pct_repaid_first_month_loans_in_last_six_months',\n",
       " 'avg_pct_repaid_sec_month_loans_in_last_six_months',\n",
       " 'avg_pct_repaid_trd_month_loans_in_last_six_months',\n",
       " 'max_repaid_total_amt_loans_in_last_six_months',\n",
       " 'pct_repaid_loans_in_last_six_months',\n",
       " 'time_years',\n",
       " 'annual_interest_rate',\n",
       " 'monthly_interest_rate',\n",
       " 'most_frequent_transactions_payment_method_at_created_loan',\n",
       " 'most_frequent_transactions_payment_method_in_last_month',\n",
       " 'most_frequent_transactions_payment_method_in_last_three_months',\n",
       " 'most_frequent_transactions_payment_method_in_last_six_months',\n",
       " 'most_frequent_loans_repayment_method_in_last_month',\n",
       " 'most_frequent_loans_repayment_method_in_last_three_months',\n",
       " 'most_frequent_loans_repayment_method_in_last_six_months']"
      ]
     },
     "execution_count": 9,
     "metadata": {},
     "output_type": "execute_result"
    }
   ],
   "source": [
    "TARGET = \"status\"\n",
    "NUM_FEATURES = list(df.select_dtypes(include=[\"float64\"],exclude=[\"object\",\"int64\"]).columns)\n",
    "CAT_FEATURES = [col for col in list(df.select_dtypes(include=[\"object\"],exclude=[\"float64\",\"int64\"]).columns)\n",
    "                if col not in [\"date_created\",\"reference_date\",\"created_at\",\"due_date\",TARGET]]\n",
    "FEATURES = NUM_FEATURES + CAT_FEATURES\n",
    "FEATURES"
   ]
  },
  {
   "cell_type": "code",
   "execution_count": 10,
   "metadata": {},
   "outputs": [
    {
     "name": "stdout",
     "output_type": "stream",
     "text": [
      "min date_created in train_data:  2022-02-01\n",
      "max date_created in train_data:  2022-08-31\n",
      "min date_created in test_data:  2022-09-01\n",
      "max date_created in test_data:  2022-10-03\n",
      "'%' data in train_data: 88.5769459298871\n",
      "'%' data in test_data: 11.423054070112894\n"
     ]
    }
   ],
   "source": [
    "train_data = df[df[\"date_created\"].between(left=date(2022,1,1),right=date(2022,9,1),inclusive=\"left\")]\n",
    "test_data = df[df[\"date_created\"].between(left=date(2022,9,1),right=date(2022,11,1),inclusive=\"left\")]\n",
    "\n",
    "print(\"min date_created in train_data: \",train_data[\"date_created\"].min())\n",
    "print(\"max date_created in train_data: \",train_data[\"date_created\"].max())\n",
    "print(\"min date_created in test_data: \",test_data[\"date_created\"].min())\n",
    "print(\"max date_created in test_data: \",test_data[\"date_created\"].max())\n",
    "print(\"'%' data in train_data:\",(train_data.shape[0]/df.shape[0])*100.0)\n",
    "print(\"'%' data in test_data:\",(test_data.shape[0]/df.shape[0])*100.0)"
   ]
  },
  {
   "cell_type": "code",
   "execution_count": 11,
   "metadata": {},
   "outputs": [
    {
     "name": "stdout",
     "output_type": "stream",
     "text": [
      "X_train, y_train shape: ((5963, 69), (5963,))\n",
      "X_test, y_test: ((769, 69), (769,))\n"
     ]
    }
   ],
   "source": [
    "X_train = train_data[FEATURES]\n",
    "y_train = train_data[TARGET].map({\"repaid\":1,\"debt\":0})\n",
    "X_test = test_data[FEATURES]\n",
    "y_test = test_data[TARGET].map({\"repaid\":1,\"debt\":0})\n",
    "\n",
    "print(\"X_train, y_train shape:\",(X_train.shape,y_train.shape))\n",
    "print(\"X_test, y_test:\",(X_test.shape,y_test.shape))"
   ]
  },
  {
   "cell_type": "code",
   "execution_count": 12,
   "metadata": {},
   "outputs": [],
   "source": [
    "train_data.to_csv(\"./data/processed/train_data.csv\",index=False)\n",
    "test_data.to_csv(\"./data/processed/test_data.csv\",index=False)"
   ]
  },
  {
   "cell_type": "markdown",
   "metadata": {},
   "source": [
    "## 5 - Applying business rule\n",
    "\n",
    "As for our business rule, we're going to assume that loans which a user have a total_amount of loan bigger than the sum of amount of transactions made in the last month before the loan creation date are not repaid. Otherwise, the user is probabily going to repay. \n",
    "\n",
    "Remember from EDA that a users when making a loan and not repay tends to have lower spending when they are close to make a loan."
   ]
  },
  {
   "cell_type": "code",
   "execution_count": 13,
   "metadata": {},
   "outputs": [
    {
     "name": "stdout",
     "output_type": "stream",
     "text": [
      "Proportion of debt in train data\n"
     ]
    },
    {
     "data": {
      "text/plain": [
       "status\n",
       "1    0.741908\n",
       "0    0.258092\n",
       "Name: proportion, dtype: float64"
      ]
     },
     "execution_count": 13,
     "metadata": {},
     "output_type": "execute_result"
    }
   ],
   "source": [
    "print(\"Proportion of debt in train data\")\n",
    "y_train.value_counts(normalize=True)"
   ]
  },
  {
   "cell_type": "code",
   "execution_count": 14,
   "metadata": {},
   "outputs": [
    {
     "data": {
      "text/plain": [
       "1    0.862159\n",
       "0    0.137841\n",
       "Name: proportion, dtype: float64"
      ]
     },
     "execution_count": 14,
     "metadata": {},
     "output_type": "execute_result"
    }
   ],
   "source": [
    "heuristic_predict = (\n",
    "    (X_test[\"total_amount\"]>X_test[\"sum_amt_transactions_in_last_month\"])\n",
    ").map({False:1,True:0})\n",
    "\n",
    "heuristic_predict.value_counts(normalize=True)"
   ]
  },
  {
   "cell_type": "code",
   "execution_count": 15,
   "metadata": {},
   "outputs": [
    {
     "name": "stdout",
     "output_type": "stream",
     "text": [
      "              precision    recall  f1-score   support\n",
      "\n",
      "        debt       0.42      0.30      0.35       145\n",
      "      repaid       0.85      0.90      0.87       624\n",
      "\n",
      "    accuracy                           0.79       769\n",
      "   macro avg       0.63      0.60      0.61       769\n",
      "weighted avg       0.77      0.79      0.77       769\n",
      "\n"
     ]
    }
   ],
   "source": [
    "print(classification_report(y_test, heuristic_predict, target_names=['debt', 'repaid']))"
   ]
  },
  {
   "cell_type": "code",
   "execution_count": 16,
   "metadata": {},
   "outputs": [
    {
     "data": {
      "image/png": "[encoded data removed]",
      "text/plain": [
       "<Figure size 640x480 with 2 Axes>"
      ]
     },
     "metadata": {},
     "output_type": "display_data"
    }
   ],
   "source": [
    "# Compute the confusion matrix\n",
    "cm = confusion_matrix(y_test, heuristic_predict, normalize='true')\n",
    "\n",
    "# Define the class labels\n",
    "labels = ['Debt', \"Repaid\"]  # Replace with your class labels\n",
    "\n",
    "# Create a confusion matrix display\n",
    "cm_display = ConfusionMatrixDisplay(confusion_matrix=cm, display_labels=labels)\n",
    "\n",
    "# Plot the confusion matrix\n",
    "cm_display.plot(cmap='Blues')\n",
    "plt.title('Confusion Matrix')\n",
    "plt.xlabel('Predicted Label')\n",
    "plt.ylabel('True Label')\n",
    "plt.show()"
   ]
  },
  {
   "cell_type": "markdown",
   "metadata": {},
   "source": [
    "The model with only business rules presented a strong bias towards loans as repaid. As a result of our dataset also being unbalanced, just using a single business rule does not seem to be enough to define churn, so an ML approach seems to be a better solution."
   ]
  },
  {
   "cell_type": "markdown",
   "metadata": {},
   "source": [
    "## 6 - Decision Tree\n",
    "\n",
    "Let's create a decision tree to generate loan predictions. The decision tree is known for being a non-linear model that builds a decision tree in which the classification rules are defined through the information gain of a feature. It is known for a simple and intuitive model, we can visualize the classification rules, which makes them well explainable models. Let's evaluate how well it can predict churn in our dataset."
   ]
  },
  {
   "cell_type": "code",
   "execution_count": 17,
   "metadata": {},
   "outputs": [
    {
     "data": {
      "text/html": [
       "<style>#sk-container-id-1 {color: black;background-color: white;}#sk-container-id-1 pre{padding: 0;}#sk-container-id-1 div.sk-toggleable {background-color: white;}#sk-container-id-1 label.sk-toggleable__label {cursor: pointer;display: block;width: 100%;margin-bottom: 0;padding: 0.3em;box-sizing: border-box;text-align: center;}#sk-container-id-1 label.sk-toggleable__label-arrow:before {content: \"▸\";float: left;margin-right: 0.25em;color: #696969;}#sk-container-id-1 label.sk-toggleable__label-arrow:hover:before {color: black;}#sk-container-id-1 div.sk-estimator:hover label.sk-toggleable__label-arrow:before {color: black;}#sk-container-id-1 div.sk-toggleable__content {max-height: 0;max-width: 0;overflow: hidden;text-align: left;background-color: #f0f8ff;}#sk-container-id-1 div.sk-toggleable__content pre {margin: 0.2em;color: black;border-radius: 0.25em;background-color: #f0f8ff;}#sk-container-id-1 input.sk-toggleable__control:checked~div.sk-toggleable__content {max-height: 200px;max-width: 100%;overflow: auto;}#sk-container-id-1 input.sk-toggleable__control:checked~label.sk-toggleable__label-arrow:before {content: \"▾\";}#sk-container-id-1 div.sk-estimator input.sk-toggleable__control:checked~label.sk-toggleable__label {background-color: #d4ebff;}#sk-container-id-1 div.sk-label input.sk-toggleable__control:checked~label.sk-toggleable__label {background-color: #d4ebff;}#sk-container-id-1 input.sk-hidden--visually {border: 0;clip: rect(1px 1px 1px 1px);clip: rect(1px, 1px, 1px, 1px);height: 1px;margin: -1px;overflow: hidden;padding: 0;position: absolute;width: 1px;}#sk-container-id-1 div.sk-estimator {font-family: monospace;background-color: #f0f8ff;border: 1px dotted black;border-radius: 0.25em;box-sizing: border-box;margin-bottom: 0.5em;}#sk-container-id-1 div.sk-estimator:hover {background-color: #d4ebff;}#sk-container-id-1 div.sk-parallel-item::after {content: \"\";width: 100%;border-bottom: 1px solid gray;flex-grow: 1;}#sk-container-id-1 div.sk-label:hover label.sk-toggleable__label {background-color: #d4ebff;}#sk-container-id-1 div.sk-serial::before {content: \"\";position: absolute;border-left: 1px solid gray;box-sizing: border-box;top: 0;bottom: 0;left: 50%;z-index: 0;}#sk-container-id-1 div.sk-serial {display: flex;flex-direction: column;align-items: center;background-color: white;padding-right: 0.2em;padding-left: 0.2em;position: relative;}#sk-container-id-1 div.sk-item {position: relative;z-index: 1;}#sk-container-id-1 div.sk-parallel {display: flex;align-items: stretch;justify-content: center;background-color: white;position: relative;}#sk-container-id-1 div.sk-item::before, #sk-container-id-1 div.sk-parallel-item::before {content: \"\";position: absolute;border-left: 1px solid gray;box-sizing: border-box;top: 0;bottom: 0;left: 50%;z-index: -1;}#sk-container-id-1 div.sk-parallel-item {display: flex;flex-direction: column;z-index: 1;position: relative;background-color: white;}#sk-container-id-1 div.sk-parallel-item:first-child::after {align-self: flex-end;width: 50%;}#sk-container-id-1 div.sk-parallel-item:last-child::after {align-self: flex-start;width: 50%;}#sk-container-id-1 div.sk-parallel-item:only-child::after {width: 0;}#sk-container-id-1 div.sk-dashed-wrapped {border: 1px dashed gray;margin: 0 0.4em 0.5em 0.4em;box-sizing: border-box;padding-bottom: 0.4em;background-color: white;}#sk-container-id-1 div.sk-label label {font-family: monospace;font-weight: bold;display: inline-block;line-height: 1.2em;}#sk-container-id-1 div.sk-label-container {text-align: center;}#sk-container-id-1 div.sk-container {/* jupyter's `normalize.less` sets `[hidden] { display: none; }` but bootstrap.min.css set `[hidden] { display: none !important; }` so we also need the `!important` here to be able to override the default hidden behavior on the sphinx rendered scikit-learn.org. See: https://github.com/scikit-learn/scikit-learn/issues/21755 */display: inline-block !important;position: relative;}#sk-container-id-1 div.sk-text-repr-fallback {display: none;}</style><div id=\"sk-container-id-1\" class=\"sk-top-container\"><div class=\"sk-text-repr-fallback\"><pre>Pipeline(steps=[(&#x27;preprocessor&#x27;,\n",
       "                 ColumnTransformer(transformers=[(&#x27;num&#x27;,\n",
       "                                                  SimpleImputer(fill_value=0,\n",
       "                                                                strategy=&#x27;constant&#x27;),\n",
       "                                                  [&#x27;amount&#x27;, &#x27;total_amount&#x27;,\n",
       "                                                   &#x27;due_amount&#x27;,\n",
       "                                                   &#x27;sum_amt_transactions_at_created_loan&#x27;,\n",
       "                                                   &#x27;sum_amt_payment_method_credit_at_created_loan&#x27;,\n",
       "                                                   &#x27;sum_amt_payment_method_debit_at_created_loan&#x27;,\n",
       "                                                   &#x27;sum_amt_transactions_in_visa_at_created_loan&#x27;,\n",
       "                                                   &#x27;sum_amt_tra...\n",
       "                                                   &#x27;most_frequent_transactions_payment_method_in_last_three_months&#x27;,\n",
       "                                                   &#x27;most_frequent_transactions_payment_method_in_last_six_months&#x27;,\n",
       "                                                   &#x27;most_frequent_loans_repayment_method_in_last_month&#x27;,\n",
       "                                                   &#x27;most_frequent_loans_repayment_method_in_last_three_months&#x27;,\n",
       "                                                   &#x27;most_frequent_loans_repayment_method_in_last_six_months&#x27;])])),\n",
       "                (&#x27;model&#x27;,\n",
       "                 DecisionTreeClassifier(class_weight=&#x27;balanced&#x27;,\n",
       "                                        random_state=42))])</pre><b>In a Jupyter environment, please rerun this cell to show the HTML representation or trust the notebook. <br />On GitHub, the HTML representation is unable to render, please try loading this page with nbviewer.org.</b></div><div class=\"sk-container\" hidden><div class=\"sk-item sk-dashed-wrapped\"><div class=\"sk-label-container\"><div class=\"sk-label sk-toggleable\"><input class=\"sk-toggleable__control sk-hidden--visually\" id=\"sk-estimator-id-1\" type=\"checkbox\" ><label for=\"sk-estimator-id-1\" class=\"sk-toggleable__label sk-toggleable__label-arrow\">Pipeline</label><div class=\"sk-toggleable__content\"><pre>Pipeline(steps=[(&#x27;preprocessor&#x27;,\n",
       "                 ColumnTransformer(transformers=[(&#x27;num&#x27;,\n",
       "                                                  SimpleImputer(fill_value=0,\n",
       "                                                                strategy=&#x27;constant&#x27;),\n",
       "                                                  [&#x27;amount&#x27;, &#x27;total_amount&#x27;,\n",
       "                                                   &#x27;due_amount&#x27;,\n",
       "                                                   &#x27;sum_amt_transactions_at_created_loan&#x27;,\n",
       "                                                   &#x27;sum_amt_payment_method_credit_at_created_loan&#x27;,\n",
       "                                                   &#x27;sum_amt_payment_method_debit_at_created_loan&#x27;,\n",
       "                                                   &#x27;sum_amt_transactions_in_visa_at_created_loan&#x27;,\n",
       "                                                   &#x27;sum_amt_tra...\n",
       "                                                   &#x27;most_frequent_transactions_payment_method_in_last_three_months&#x27;,\n",
       "                                                   &#x27;most_frequent_transactions_payment_method_in_last_six_months&#x27;,\n",
       "                                                   &#x27;most_frequent_loans_repayment_method_in_last_month&#x27;,\n",
       "                                                   &#x27;most_frequent_loans_repayment_method_in_last_three_months&#x27;,\n",
       "                                                   &#x27;most_frequent_loans_repayment_method_in_last_six_months&#x27;])])),\n",
       "                (&#x27;model&#x27;,\n",
       "                 DecisionTreeClassifier(class_weight=&#x27;balanced&#x27;,\n",
       "                                        random_state=42))])</pre></div></div></div><div class=\"sk-serial\"><div class=\"sk-item sk-dashed-wrapped\"><div class=\"sk-label-container\"><div class=\"sk-label sk-toggleable\"><input class=\"sk-toggleable__control sk-hidden--visually\" id=\"sk-estimator-id-2\" type=\"checkbox\" ><label for=\"sk-estimator-id-2\" class=\"sk-toggleable__label sk-toggleable__label-arrow\">preprocessor: ColumnTransformer</label><div class=\"sk-toggleable__content\"><pre>ColumnTransformer(transformers=[(&#x27;num&#x27;,\n",
       "                                 SimpleImputer(fill_value=0,\n",
       "                                               strategy=&#x27;constant&#x27;),\n",
       "                                 [&#x27;amount&#x27;, &#x27;total_amount&#x27;, &#x27;due_amount&#x27;,\n",
       "                                  &#x27;sum_amt_transactions_at_created_loan&#x27;,\n",
       "                                  &#x27;sum_amt_payment_method_credit_at_created_loan&#x27;,\n",
       "                                  &#x27;sum_amt_payment_method_debit_at_created_loan&#x27;,\n",
       "                                  &#x27;sum_amt_transactions_in_visa_at_created_loan&#x27;,\n",
       "                                  &#x27;sum_amt_transactions_in_mastercard_at_creat...\n",
       "                                  &#x27;most_frequent_transactions_payment_method_in_last_month&#x27;,\n",
       "                                  &#x27;most_frequent_transactions_payment_method_in_last_three_months&#x27;,\n",
       "                                  &#x27;most_frequent_transactions_payment_method_in_last_six_months&#x27;,\n",
       "                                  &#x27;most_frequent_loans_repayment_method_in_last_month&#x27;,\n",
       "                                  &#x27;most_frequent_loans_repayment_method_in_last_three_months&#x27;,\n",
       "                                  &#x27;most_frequent_loans_repayment_method_in_last_six_months&#x27;])])</pre></div></div></div><div class=\"sk-parallel\"><div class=\"sk-parallel-item\"><div class=\"sk-item\"><div class=\"sk-label-container\"><div class=\"sk-label sk-toggleable\"><input class=\"sk-toggleable__control sk-hidden--visually\" id=\"sk-estimator-id-3\" type=\"checkbox\" ><label for=\"sk-estimator-id-3\" class=\"sk-toggleable__label sk-toggleable__label-arrow\">num</label><div class=\"sk-toggleable__content\"><pre>[&#x27;amount&#x27;, &#x27;total_amount&#x27;, &#x27;due_amount&#x27;, &#x27;sum_amt_transactions_at_created_loan&#x27;, &#x27;sum_amt_payment_method_credit_at_created_loan&#x27;, &#x27;sum_amt_payment_method_debit_at_created_loan&#x27;, &#x27;sum_amt_transactions_in_visa_at_created_loan&#x27;, &#x27;sum_amt_transactions_in_mastercard_at_created_loan&#x27;, &#x27;sum_amt_transactions_in_elo_at_created_loan&#x27;, &#x27;max_amt_transactions_at_created_loan&#x27;, &#x27;max_installments_at_created_loan&#x27;, &#x27;median_installments_at_created_loan&#x27;, &#x27;sum_amt_transactions_in_last_month&#x27;, &#x27;sum_amt_payment_method_credit_in_last_month&#x27;, &#x27;sum_amt_payment_method_debit_in_last_month&#x27;, &#x27;sum_amt_transactions_in_visa_in_last_month&#x27;, &#x27;sum_amt_transactions_in_mastercard_in_last_month&#x27;, &#x27;sum_amt_transactions_in_elo_in_last_month&#x27;, &#x27;max_amt_transactions_in_last_month&#x27;, &#x27;max_installments_in_last_month&#x27;, &#x27;median_installments_in_last_month&#x27;, &#x27;avg_amt_transactions_in_last_three_months&#x27;, &#x27;avg_amt_payment_method_credit_in_last_three_months&#x27;, &#x27;avg_amt_payment_method_debit_in_last_three_months&#x27;, &#x27;avg_amt_transactions_in_visa_in_last_three_months&#x27;, &#x27;avg_amt_transactions_in_mastercard_in_last_three_months&#x27;, &#x27;avg_amt_transactions_in_elo_in_last_three_months&#x27;, &#x27;avg_amt_transactions_in_hipercard_in_last_three_months&#x27;, &#x27;max_amt_transactions_in_last_three_months&#x27;, &#x27;max_installments_in_last_three_months&#x27;, &#x27;median_installments_in_last_three_months&#x27;, &#x27;avg_amt_transactions_in_last_six_months&#x27;, &#x27;avg_amt_payment_method_credit_in_last_six_months&#x27;, &#x27;avg_amt_payment_method_debit_in_last_six_months&#x27;, &#x27;avg_amt_transactions_in_visa_in_last_six_months&#x27;, &#x27;avg_amt_transactions_in_mastercard_in_last_six_months&#x27;, &#x27;avg_amt_transactions_in_elo_in_last_six_months&#x27;, &#x27;avg_amt_transactions_in_hipercard_in_last_six_months&#x27;, &#x27;max_amt_transactions_in_last_six_months&#x27;, &#x27;max_installments_in_last_six_months&#x27;, &#x27;median_installments_in_last_six_months&#x27;, &#x27;avg_repaid_total_amt_loans_in_last_month&#x27;, &#x27;avg_pct_repaid_first_month_loans_in_last_month&#x27;, &#x27;avg_pct_repaid_sec_month_loans_in_last_month&#x27;, &#x27;avg_pct_repaid_trd_month_loans_in_last_month&#x27;, &#x27;max_repaid_total_amt_loans_in_last_month&#x27;, &#x27;pct_repaid_loans_in_last_month&#x27;, &#x27;avg_repaid_total_amt_loans_in_last_three_months&#x27;, &#x27;avg_pct_repaid_first_month_loans_in_last_three_months&#x27;, &#x27;avg_pct_repaid_sec_month_loans_in_last_three_months&#x27;, &#x27;avg_pct_repaid_trd_month_loans_in_last_three_months&#x27;, &#x27;max_repaid_total_amt_loans_in_last_three_months&#x27;, &#x27;pct_repaid_loans_in_last_three_months&#x27;, &#x27;avg_repaid_total_amt_loans_in_last_six_months&#x27;, &#x27;avg_pct_repaid_first_month_loans_in_last_six_months&#x27;, &#x27;avg_pct_repaid_sec_month_loans_in_last_six_months&#x27;, &#x27;avg_pct_repaid_trd_month_loans_in_last_six_months&#x27;, &#x27;max_repaid_total_amt_loans_in_last_six_months&#x27;, &#x27;pct_repaid_loans_in_last_six_months&#x27;, &#x27;time_years&#x27;, &#x27;annual_interest_rate&#x27;, &#x27;monthly_interest_rate&#x27;]</pre></div></div></div><div class=\"sk-serial\"><div class=\"sk-item\"><div class=\"sk-estimator sk-toggleable\"><input class=\"sk-toggleable__control sk-hidden--visually\" id=\"sk-estimator-id-4\" type=\"checkbox\" ><label for=\"sk-estimator-id-4\" class=\"sk-toggleable__label sk-toggleable__label-arrow\">SimpleImputer</label><div class=\"sk-toggleable__content\"><pre>SimpleImputer(fill_value=0, strategy=&#x27;constant&#x27;)</pre></div></div></div></div></div></div><div class=\"sk-parallel-item\"><div class=\"sk-item\"><div class=\"sk-label-container\"><div class=\"sk-label sk-toggleable\"><input class=\"sk-toggleable__control sk-hidden--visually\" id=\"sk-estimator-id-5\" type=\"checkbox\" ><label for=\"sk-estimator-id-5\" class=\"sk-toggleable__label sk-toggleable__label-arrow\">cat</label><div class=\"sk-toggleable__content\"><pre>[&#x27;most_frequent_transactions_payment_method_at_created_loan&#x27;, &#x27;most_frequent_transactions_payment_method_in_last_month&#x27;, &#x27;most_frequent_transactions_payment_method_in_last_three_months&#x27;, &#x27;most_frequent_transactions_payment_method_in_last_six_months&#x27;, &#x27;most_frequent_loans_repayment_method_in_last_month&#x27;, &#x27;most_frequent_loans_repayment_method_in_last_three_months&#x27;, &#x27;most_frequent_loans_repayment_method_in_last_six_months&#x27;]</pre></div></div></div><div class=\"sk-serial\"><div class=\"sk-item\"><div class=\"sk-serial\"><div class=\"sk-item\"><div class=\"sk-estimator sk-toggleable\"><input class=\"sk-toggleable__control sk-hidden--visually\" id=\"sk-estimator-id-6\" type=\"checkbox\" ><label for=\"sk-estimator-id-6\" class=\"sk-toggleable__label sk-toggleable__label-arrow\">SimpleImputer</label><div class=\"sk-toggleable__content\"><pre>SimpleImputer(strategy=&#x27;most_frequent&#x27;)</pre></div></div></div><div class=\"sk-item\"><div class=\"sk-estimator sk-toggleable\"><input class=\"sk-toggleable__control sk-hidden--visually\" id=\"sk-estimator-id-7\" type=\"checkbox\" ><label for=\"sk-estimator-id-7\" class=\"sk-toggleable__label sk-toggleable__label-arrow\">OneHotEncoder</label><div class=\"sk-toggleable__content\"><pre>OneHotEncoder()</pre></div></div></div></div></div></div></div></div></div></div><div class=\"sk-item\"><div class=\"sk-estimator sk-toggleable\"><input class=\"sk-toggleable__control sk-hidden--visually\" id=\"sk-estimator-id-8\" type=\"checkbox\" ><label for=\"sk-estimator-id-8\" class=\"sk-toggleable__label sk-toggleable__label-arrow\">DecisionTreeClassifier</label><div class=\"sk-toggleable__content\"><pre>DecisionTreeClassifier(class_weight=&#x27;balanced&#x27;, random_state=42)</pre></div></div></div></div></div></div></div>"
      ],
      "text/plain": [
       "Pipeline(steps=[('preprocessor',\n",
       "                 ColumnTransformer(transformers=[('num',\n",
       "                                                  SimpleImputer(fill_value=0,\n",
       "                                                                strategy='constant'),\n",
       "                                                  ['amount', 'total_amount',\n",
       "                                                   'due_amount',\n",
       "                                                   'sum_amt_transactions_at_created_loan',\n",
       "                                                   'sum_amt_payment_method_credit_at_created_loan',\n",
       "                                                   'sum_amt_payment_method_debit_at_created_loan',\n",
       "                                                   'sum_amt_transactions_in_visa_at_created_loan',\n",
       "                                                   'sum_amt_tra...\n",
       "                                                   'most_frequent_transactions_payment_method_in_last_three_months',\n",
       "                                                   'most_frequent_transactions_payment_method_in_last_six_months',\n",
       "                                                   'most_frequent_loans_repayment_method_in_last_month',\n",
       "                                                   'most_frequent_loans_repayment_method_in_last_three_months',\n",
       "                                                   'most_frequent_loans_repayment_method_in_last_six_months'])])),\n",
       "                ('model',\n",
       "                 DecisionTreeClassifier(class_weight='balanced',\n",
       "                                        random_state=42))])"
      ]
     },
     "execution_count": 17,
     "metadata": {},
     "output_type": "execute_result"
    }
   ],
   "source": [
    "# Define the pipeline\n",
    "# Create the column transformer\n",
    "\n",
    "categorical_transformer = Pipeline(\n",
    "    steps=[\n",
    "        ('cat_imputer',SimpleImputer(strategy=\"most_frequent\")),\n",
    "        ('ohe_cat', OneHotEncoder())\n",
    "        ]\n",
    ")\n",
    "\n",
    "\n",
    "preprocessor = ColumnTransformer(\n",
    "    transformers=[\n",
    "        ('num', SimpleImputer(strategy='constant',fill_value=0), NUM_FEATURES),\n",
    "        ('cat', categorical_transformer, CAT_FEATURES)])\n",
    "\n",
    "# Define the pipeline\n",
    "pipeline = Pipeline(steps=[\n",
    "    ('preprocessor', preprocessor),  # Preprocessing (imputation + one-hot encoding)\n",
    "    ('model', DecisionTreeClassifier(class_weight='balanced',random_state=42))  # Model\n",
    "])\n",
    "\n",
    "# Fit the pipeline to the training data\n",
    "pipeline.fit(X_train, y_train)"
   ]
  },
  {
   "cell_type": "code",
   "execution_count": 18,
   "metadata": {},
   "outputs": [
    {
     "name": "stdout",
     "output_type": "stream",
     "text": [
      "              precision    recall  f1-score   support\n",
      "\n",
      "        debt       0.31      0.32      0.32       145\n",
      "      repaid       0.84      0.83      0.84       624\n",
      "\n",
      "    accuracy                           0.74       769\n",
      "   macro avg       0.58      0.58      0.58       769\n",
      "weighted avg       0.74      0.74      0.74       769\n",
      "\n"
     ]
    }
   ],
   "source": [
    "y_pred_class = pipeline.predict(X_test)\n",
    "y_pred_proba = pipeline.predict_proba(X_test)\n",
    "\n",
    "print(classification_report(y_test, y_pred_class,target_names=['debt', 'repaid']))"
   ]
  },
  {
   "cell_type": "code",
   "execution_count": 19,
   "metadata": {},
   "outputs": [
    {
     "name": "stdout",
     "output_type": "stream",
     "text": [
      "Proportion of debt and repaid:\n",
      "0:0.19505851755526657\n",
      "1:0.8049414824447334\n"
     ]
    }
   ],
   "source": [
    "print(\"Proportion of debt and repaid:\")\n",
    "cat,ncat = np.unique(y_pred_class,return_counts=True)\n",
    "for cat, qty in zip(cat,ncat):\n",
    "    print(f\"{cat}:{qty/np.sum(ncat,axis=0)}\")"
   ]
  },
  {
   "cell_type": "code",
   "execution_count": 20,
   "metadata": {},
   "outputs": [
    {
     "data": {
      "image/png": "[encoded data removed]",
      "text/plain": [
       "<Figure size 640x480 with 2 Axes>"
      ]
     },
     "metadata": {},
     "output_type": "display_data"
    }
   ],
   "source": [
    "# Compute the confusion matrix\n",
    "cm = confusion_matrix(y_test, y_pred_class, normalize='true')\n",
    "\n",
    "# Define the class labels\n",
    "labels = ['Debt', \"Repaid\"]  # Replace with your class labels\n",
    "\n",
    "# Create a confusion matrix display\n",
    "cm_display = ConfusionMatrixDisplay(confusion_matrix=cm, display_labels=labels)\n",
    "\n",
    "# Plot the confusion matrix\n",
    "cm_display.plot(cmap='Blues')\n",
    "plt.title('Confusion Matrix')\n",
    "plt.xlabel('Predicted Label')\n",
    "plt.ylabel('True Label')\n",
    "plt.show()"
   ]
  },
  {
   "cell_type": "markdown",
   "metadata": {},
   "source": [
    "The decision tree have a performance similar to the business rule but with the same problem. The model have a strong bias to classify a loan as repaid, but we can see that its better at classify debt and the false positives have reduce in comparison with the business rule."
   ]
  },
  {
   "cell_type": "markdown",
   "metadata": {},
   "source": [
    "## 7 - Save configs"
   ]
  },
  {
   "cell_type": "code",
   "execution_count": 21,
   "metadata": {},
   "outputs": [],
   "source": [
    "OUTPUT_PATH = Path(\"./config\")\n",
    "\n",
    "model_name = \"decision_tree_clf_for_loan_repaymnt_pred\"\n",
    "\n",
    "num_features = [str.encode(col,encoding=\"ISO-8859-1\") for col in NUM_FEATURES]\n",
    "cat_features = [str.encode(col,encoding=\"ISO-8859-1\") for col in CAT_FEATURES]\n",
    "\n",
    "fit_model_params = pipeline.named_steps[\"model\"].get_params()\n",
    "\n",
    "MODEL_PARAMETERS = {\n",
    "    \"model_name\":model_name,\n",
    "    \"model_version\":1,\n",
    "    \"model_parameters\":{\n",
    "        \"fit_params\":fit_model_params\n",
    "        },\n",
    "    \"model_features\":{\"NUM_FEATURES\":num_features,\"CAT_FEATURES\":cat_features},\n",
    "    \"model_target\":\"status\"\n",
    "}\n",
    "\n",
    "\n",
    "if OUTPUT_PATH.is_dir():\n",
    "    with open(f\"{OUTPUT_PATH}/{model_name}_config.yaml\",\"w\") as f:\n",
    "        yaml.dump(MODEL_PARAMETERS,f)\n",
    "else:\n",
    "    OUTPUT_PATH.mkdir(exist_ok=True,parents=True)\n",
    "    with open(f\"{OUTPUT_PATH}/f{model_name}_config.yaml\",\"w\") as f:\n",
    "        yaml.dump(MODEL_PARAMETERS,f)"
   ]
  },
  {
   "cell_type": "markdown",
   "metadata": {},
   "source": [
    "## 8 - Conclusion"
   ]
  },
  {
   "cell_type": "markdown",
   "metadata": {},
   "source": [
    "- Create two baseline models: 1 - from a business rule e 2 - from a decision tree and features from the dataset `df_loans_with_loans_repays_hist_and_trans_hist_per_user_cleared`.\n",
    "- The main metric to monitor here is the weighted f1-score: in loan prediction problems we want a balance between precision and recall. Precision because it reduces the number of false positives (in this case, repay was predicted but the user did not repay) which reduces the number of defaulters and the company's loss of earnings, recall is important as it reduces the number of false positives negative (repay is not foreseen but repay occurs) and with this it increases the chance of gains for the company through interest and fees. Therefore, it is important to create a balance between these two metrics and then choose the f1-score to improve.\n",
    "- the baseline model 1 based on business rule we saw that we have a strong bias to classify the loan as repaid, therefore, to predict loan repayment we obtain weighted-avg: precision: 0.77, recall: 0.79 and f1-score:0.77\n",
    "- The baseline 2 model with the decision tree has already presented results close to the previous one. Managing to reduce the number of false positives and correcting more debt cases. the results obtained considering the weight-avg (precision: 0.75, recall: 0.74 and f1-score:0.74) however still identifying a lot of false negatives, therefore, a more robust model and a better treatment of features is important to improve the results."
   ]
  },
  {
   "cell_type": "code",
   "execution_count": null,
   "metadata": {},
   "outputs": [],
   "source": []
  },
  {
   "cell_type": "code",
   "execution_count": null,
   "metadata": {},
   "outputs": [],
   "source": []
  },
  {
   "cell_type": "code",
   "execution_count": null,
   "metadata": {},
   "outputs": [],
   "source": []
  },
  {
   "cell_type": "code",
   "execution_count": null,
   "metadata": {},
   "outputs": [],
   "source": []
  },
  {
   "cell_type": "code",
   "execution_count": null,
   "metadata": {},
   "outputs": [],
   "source": []
  },
  {
   "cell_type": "code",
   "execution_count": null,
   "metadata": {},
   "outputs": [],
   "source": []
  }
 ],
 "metadata": {
  "kernelspec": {
   "display_name": "churn_pred_env",
   "language": "python",
   "name": "python3"
  },
  "language_info": {
   "codemirror_mode": {
    "name": "ipython",
    "version": 3
   },
   "file_extension": ".py",
   "mimetype": "text/x-python",
   "name": "python",
   "nbconvert_exporter": "python",
   "pygments_lexer": "ipython3",
   "version": "3.11.8"
  }
 },
 "nbformat": 4,
 "nbformat_minor": 2
}
